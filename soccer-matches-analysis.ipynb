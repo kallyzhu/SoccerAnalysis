{
 "cells": [
  {
   "cell_type": "markdown",
   "metadata": {},
   "source": [
    "# Soccer Analysis\n",
    "the workflow of this notebook consists of the following:\n",
    "   * Define the objective\n",
    "   * Exploratory data analysis\n",
    "   * Data visualization, and statistics summary\n",
    "   * Feature engineering\n",
    "   * Build a regression model\n",
    "   * Predict all possible games with 32 teams\n",
    "   * Simulate tournament for the 2018 world cup"
   ]
  },
  {
   "cell_type": "code",
   "execution_count": 1,
   "metadata": {},
   "outputs": [],
   "source": [
    "import pandas as pd\n",
    "matches = pd.read_csv('./data/matches.csv')\n",
    "teams = pd.read_csv('./data/teams.csv')"
   ]
  },
  {
   "cell_type": "code",
   "execution_count": 2,
   "metadata": {},
   "outputs": [
    {
     "data": {
      "text/html": [
       "<div>\n",
       "<style scoped>\n",
       "    .dataframe tbody tr th:only-of-type {\n",
       "        vertical-align: middle;\n",
       "    }\n",
       "\n",
       "    .dataframe tbody tr th {\n",
       "        vertical-align: top;\n",
       "    }\n",
       "\n",
       "    .dataframe thead th {\n",
       "        text-align: right;\n",
       "    }\n",
       "</style>\n",
       "<table border=\"1\" class=\"dataframe\">\n",
       "  <thead>\n",
       "    <tr style=\"text-align: right;\">\n",
       "      <th></th>\n",
       "      <th>date</th>\n",
       "      <th>team1</th>\n",
       "      <th>team1Text</th>\n",
       "      <th>team2</th>\n",
       "      <th>team2Text</th>\n",
       "      <th>venue</th>\n",
       "      <th>IdCupSeason</th>\n",
       "      <th>CupName</th>\n",
       "      <th>team1Score</th>\n",
       "      <th>team2Score</th>\n",
       "      <th>statText</th>\n",
       "      <th>resText</th>\n",
       "      <th>team1PenScore</th>\n",
       "      <th>team2PenScore</th>\n",
       "    </tr>\n",
       "  </thead>\n",
       "  <tbody>\n",
       "    <tr>\n",
       "      <th>0</th>\n",
       "      <td>19500308</td>\n",
       "      <td>WAL</td>\n",
       "      <td>Wales</td>\n",
       "      <td>NIR</td>\n",
       "      <td>Northern Ireland</td>\n",
       "      <td>Cardiff, Wales</td>\n",
       "      <td>6</td>\n",
       "      <td>FIFA competition team qualification</td>\n",
       "      <td>0.0</td>\n",
       "      <td>0.0</td>\n",
       "      <td>NaN</td>\n",
       "      <td>0-0</td>\n",
       "      <td>NaN</td>\n",
       "      <td>NaN</td>\n",
       "    </tr>\n",
       "    <tr>\n",
       "      <th>1</th>\n",
       "      <td>19500402</td>\n",
       "      <td>ESP</td>\n",
       "      <td>Spain</td>\n",
       "      <td>POR</td>\n",
       "      <td>Portugal</td>\n",
       "      <td>Madrid, Spain</td>\n",
       "      <td>6</td>\n",
       "      <td>FIFA competition team qualification</td>\n",
       "      <td>5.0</td>\n",
       "      <td>1.0</td>\n",
       "      <td>NaN</td>\n",
       "      <td>5-1</td>\n",
       "      <td>NaN</td>\n",
       "      <td>NaN</td>\n",
       "    </tr>\n",
       "    <tr>\n",
       "      <th>2</th>\n",
       "      <td>19500409</td>\n",
       "      <td>POR</td>\n",
       "      <td>Portugal</td>\n",
       "      <td>ESP</td>\n",
       "      <td>Spain</td>\n",
       "      <td>Lisbon, Portugal</td>\n",
       "      <td>6</td>\n",
       "      <td>FIFA competition team qualification</td>\n",
       "      <td>2.0</td>\n",
       "      <td>2.0</td>\n",
       "      <td>NaN</td>\n",
       "      <td>2-2</td>\n",
       "      <td>NaN</td>\n",
       "      <td>NaN</td>\n",
       "    </tr>\n",
       "    <tr>\n",
       "      <th>3</th>\n",
       "      <td>19500415</td>\n",
       "      <td>SCO</td>\n",
       "      <td>Scotland</td>\n",
       "      <td>ENG</td>\n",
       "      <td>England</td>\n",
       "      <td>Glasgow, Scotland</td>\n",
       "      <td>6</td>\n",
       "      <td>FIFA competition team qualification</td>\n",
       "      <td>0.0</td>\n",
       "      <td>1.0</td>\n",
       "      <td>NaN</td>\n",
       "      <td>0-1</td>\n",
       "      <td>NaN</td>\n",
       "      <td>NaN</td>\n",
       "    </tr>\n",
       "    <tr>\n",
       "      <th>4</th>\n",
       "      <td>19500624</td>\n",
       "      <td>BRA</td>\n",
       "      <td>Brazil</td>\n",
       "      <td>MEX</td>\n",
       "      <td>Mexico</td>\n",
       "      <td>Rio De Janeiro, Brazil</td>\n",
       "      <td>7</td>\n",
       "      <td>FIFA competition team final</td>\n",
       "      <td>4.0</td>\n",
       "      <td>0.0</td>\n",
       "      <td>NaN</td>\n",
       "      <td>4-0</td>\n",
       "      <td>NaN</td>\n",
       "      <td>NaN</td>\n",
       "    </tr>\n",
       "  </tbody>\n",
       "</table>\n",
       "</div>"
      ],
      "text/plain": [
       "       date team1 team1Text team2         team2Text                   venue  \\\n",
       "0  19500308   WAL     Wales   NIR  Northern Ireland          Cardiff, Wales   \n",
       "1  19500402   ESP     Spain   POR          Portugal           Madrid, Spain   \n",
       "2  19500409   POR  Portugal   ESP             Spain        Lisbon, Portugal   \n",
       "3  19500415   SCO  Scotland   ENG           England       Glasgow, Scotland   \n",
       "4  19500624   BRA    Brazil   MEX            Mexico  Rio De Janeiro, Brazil   \n",
       "\n",
       "   IdCupSeason                              CupName  team1Score  team2Score  \\\n",
       "0            6  FIFA competition team qualification         0.0         0.0   \n",
       "1            6  FIFA competition team qualification         5.0         1.0   \n",
       "2            6  FIFA competition team qualification         2.0         2.0   \n",
       "3            6  FIFA competition team qualification         0.0         1.0   \n",
       "4            7          FIFA competition team final         4.0         0.0   \n",
       "\n",
       "  statText resText  team1PenScore  team2PenScore  \n",
       "0      NaN     0-0            NaN            NaN  \n",
       "1      NaN     5-1            NaN            NaN  \n",
       "2      NaN     2-2            NaN            NaN  \n",
       "3      NaN     0-1            NaN            NaN  \n",
       "4      NaN     4-0            NaN            NaN  "
      ]
     },
     "execution_count": 2,
     "metadata": {},
     "output_type": "execute_result"
    }
   ],
   "source": [
    "matches.head()"
   ]
  },
  {
   "cell_type": "code",
   "execution_count": 3,
   "metadata": {},
   "outputs": [
    {
     "data": {
      "text/html": [
       "<div>\n",
       "<style scoped>\n",
       "    .dataframe tbody tr th:only-of-type {\n",
       "        vertical-align: middle;\n",
       "    }\n",
       "\n",
       "    .dataframe tbody tr th {\n",
       "        vertical-align: top;\n",
       "    }\n",
       "\n",
       "    .dataframe thead th {\n",
       "        text-align: right;\n",
       "    }\n",
       "</style>\n",
       "<table border=\"1\" class=\"dataframe\">\n",
       "  <thead>\n",
       "    <tr style=\"text-align: right;\">\n",
       "      <th></th>\n",
       "      <th>confederation</th>\n",
       "      <th>name</th>\n",
       "      <th>fifa_code</th>\n",
       "      <th>ioc_code</th>\n",
       "    </tr>\n",
       "  </thead>\n",
       "  <tbody>\n",
       "    <tr>\n",
       "      <th>0</th>\n",
       "      <td>CAF</td>\n",
       "      <td>Algeria</td>\n",
       "      <td>ALG</td>\n",
       "      <td>ALG</td>\n",
       "    </tr>\n",
       "    <tr>\n",
       "      <th>1</th>\n",
       "      <td>CAF</td>\n",
       "      <td>Angola</td>\n",
       "      <td>ANG</td>\n",
       "      <td>ANG</td>\n",
       "    </tr>\n",
       "    <tr>\n",
       "      <th>2</th>\n",
       "      <td>CAF</td>\n",
       "      <td>Benin</td>\n",
       "      <td>BEN</td>\n",
       "      <td>BEN</td>\n",
       "    </tr>\n",
       "    <tr>\n",
       "      <th>3</th>\n",
       "      <td>CAF</td>\n",
       "      <td>Botswana</td>\n",
       "      <td>BOT</td>\n",
       "      <td>BOT</td>\n",
       "    </tr>\n",
       "    <tr>\n",
       "      <th>4</th>\n",
       "      <td>CAF</td>\n",
       "      <td>Burkina Faso</td>\n",
       "      <td>BFA</td>\n",
       "      <td>BUR</td>\n",
       "    </tr>\n",
       "  </tbody>\n",
       "</table>\n",
       "</div>"
      ],
      "text/plain": [
       "  confederation          name fifa_code ioc_code\n",
       "0           CAF       Algeria       ALG      ALG\n",
       "1           CAF        Angola       ANG      ANG\n",
       "2           CAF         Benin       BEN      BEN\n",
       "3           CAF      Botswana       BOT      BOT\n",
       "4           CAF  Burkina Faso       BFA      BUR"
      ]
     },
     "execution_count": 3,
     "metadata": {},
     "output_type": "execute_result"
    }
   ],
   "source": [
    "teams.head()"
   ]
  },
  {
   "cell_type": "code",
   "execution_count": 4,
   "metadata": {},
   "outputs": [
    {
     "data": {
      "text/plain": [
       "{'Confederation competition team final',\n",
       " 'FIFA competition team final',\n",
       " 'FIFA competition team qualification',\n",
       " 'Friendly'}"
      ]
     },
     "execution_count": 4,
     "metadata": {},
     "output_type": "execute_result"
    }
   ],
   "source": [
    "set(matches['CupName'].values)"
   ]
  },
  {
   "cell_type": "code",
   "execution_count": 5,
   "metadata": {},
   "outputs": [
    {
     "data": {
      "text/plain": [
       "(31825, 14)"
      ]
     },
     "execution_count": 5,
     "metadata": {},
     "output_type": "execute_result"
    }
   ],
   "source": [
    "# remove match duplicates \n",
    "matches = matches.drop_duplicates()\n",
    "# modified date to datetime object with yyyy-mm-dd format\n",
    "from datetime import datetime\n",
    "matches['date'] = matches['date'].apply(lambda x: datetime.strptime(str(x), '%Y%m%d').strftime('%Y-%m-%d'))\n",
    "matches.shape"
   ]
  },
  {
   "cell_type": "markdown",
   "metadata": {},
   "source": [
    "So here we need some domain knowledge in soccer. If you frequently watch soccer games, you'll know that whether or not a team was playing at home would probably make a significant difference in its performance. Therefore, we want to take which team is playing at home into account. \n",
    "\n",
    "- We add two new variables to indicate whether or not the teams playing at home.\n",
    "    - ```team1Home``` \n",
    "    - ```team2Home```\n",
    "- If the first team is playing at home, then ```team1Home``` is ```True```, ```team2Home``` is ```False``` and vice versa.\n",
    "- If both teams are playing at home, both ```team1Home``` and ```team2Home``` are ```True```; if both teams are away, then ```team1Home``` and ```team2Home``` are both ```False```. "
   ]
  },
  {
   "cell_type": "code",
   "execution_count": 6,
   "metadata": {},
   "outputs": [
    {
     "data": {
      "text/html": [
       "<div>\n",
       "<style scoped>\n",
       "    .dataframe tbody tr th:only-of-type {\n",
       "        vertical-align: middle;\n",
       "    }\n",
       "\n",
       "    .dataframe tbody tr th {\n",
       "        vertical-align: top;\n",
       "    }\n",
       "\n",
       "    .dataframe thead th {\n",
       "        text-align: right;\n",
       "    }\n",
       "</style>\n",
       "<table border=\"1\" class=\"dataframe\">\n",
       "  <thead>\n",
       "    <tr style=\"text-align: right;\">\n",
       "      <th></th>\n",
       "      <th>date</th>\n",
       "      <th>team1</th>\n",
       "      <th>team1Text</th>\n",
       "      <th>team2</th>\n",
       "      <th>team2Text</th>\n",
       "      <th>venue</th>\n",
       "      <th>IdCupSeason</th>\n",
       "      <th>CupName</th>\n",
       "      <th>team1Score</th>\n",
       "      <th>team2Score</th>\n",
       "      <th>statText</th>\n",
       "      <th>resText</th>\n",
       "      <th>team1PenScore</th>\n",
       "      <th>team2PenScore</th>\n",
       "      <th>team1Home</th>\n",
       "      <th>team2Home</th>\n",
       "    </tr>\n",
       "  </thead>\n",
       "  <tbody>\n",
       "    <tr>\n",
       "      <th>0</th>\n",
       "      <td>1950-03-08</td>\n",
       "      <td>WAL</td>\n",
       "      <td>Wales</td>\n",
       "      <td>NIR</td>\n",
       "      <td>Northern Ireland</td>\n",
       "      <td>Cardiff, Wales</td>\n",
       "      <td>6</td>\n",
       "      <td>FIFA competition team qualification</td>\n",
       "      <td>0.0</td>\n",
       "      <td>0.0</td>\n",
       "      <td>NaN</td>\n",
       "      <td>0-0</td>\n",
       "      <td>NaN</td>\n",
       "      <td>NaN</td>\n",
       "      <td>True</td>\n",
       "      <td>False</td>\n",
       "    </tr>\n",
       "    <tr>\n",
       "      <th>1</th>\n",
       "      <td>1950-04-02</td>\n",
       "      <td>ESP</td>\n",
       "      <td>Spain</td>\n",
       "      <td>POR</td>\n",
       "      <td>Portugal</td>\n",
       "      <td>Madrid, Spain</td>\n",
       "      <td>6</td>\n",
       "      <td>FIFA competition team qualification</td>\n",
       "      <td>5.0</td>\n",
       "      <td>1.0</td>\n",
       "      <td>NaN</td>\n",
       "      <td>5-1</td>\n",
       "      <td>NaN</td>\n",
       "      <td>NaN</td>\n",
       "      <td>True</td>\n",
       "      <td>False</td>\n",
       "    </tr>\n",
       "    <tr>\n",
       "      <th>2</th>\n",
       "      <td>1950-04-09</td>\n",
       "      <td>POR</td>\n",
       "      <td>Portugal</td>\n",
       "      <td>ESP</td>\n",
       "      <td>Spain</td>\n",
       "      <td>Lisbon, Portugal</td>\n",
       "      <td>6</td>\n",
       "      <td>FIFA competition team qualification</td>\n",
       "      <td>2.0</td>\n",
       "      <td>2.0</td>\n",
       "      <td>NaN</td>\n",
       "      <td>2-2</td>\n",
       "      <td>NaN</td>\n",
       "      <td>NaN</td>\n",
       "      <td>True</td>\n",
       "      <td>False</td>\n",
       "    </tr>\n",
       "    <tr>\n",
       "      <th>3</th>\n",
       "      <td>1950-04-15</td>\n",
       "      <td>SCO</td>\n",
       "      <td>Scotland</td>\n",
       "      <td>ENG</td>\n",
       "      <td>England</td>\n",
       "      <td>Glasgow, Scotland</td>\n",
       "      <td>6</td>\n",
       "      <td>FIFA competition team qualification</td>\n",
       "      <td>0.0</td>\n",
       "      <td>1.0</td>\n",
       "      <td>NaN</td>\n",
       "      <td>0-1</td>\n",
       "      <td>NaN</td>\n",
       "      <td>NaN</td>\n",
       "      <td>True</td>\n",
       "      <td>False</td>\n",
       "    </tr>\n",
       "    <tr>\n",
       "      <th>4</th>\n",
       "      <td>1950-06-24</td>\n",
       "      <td>BRA</td>\n",
       "      <td>Brazil</td>\n",
       "      <td>MEX</td>\n",
       "      <td>Mexico</td>\n",
       "      <td>Rio De Janeiro, Brazil</td>\n",
       "      <td>7</td>\n",
       "      <td>FIFA competition team final</td>\n",
       "      <td>4.0</td>\n",
       "      <td>0.0</td>\n",
       "      <td>NaN</td>\n",
       "      <td>4-0</td>\n",
       "      <td>NaN</td>\n",
       "      <td>NaN</td>\n",
       "      <td>True</td>\n",
       "      <td>False</td>\n",
       "    </tr>\n",
       "  </tbody>\n",
       "</table>\n",
       "</div>"
      ],
      "text/plain": [
       "         date team1 team1Text team2         team2Text                   venue  \\\n",
       "0  1950-03-08   WAL     Wales   NIR  Northern Ireland          Cardiff, Wales   \n",
       "1  1950-04-02   ESP     Spain   POR          Portugal           Madrid, Spain   \n",
       "2  1950-04-09   POR  Portugal   ESP             Spain        Lisbon, Portugal   \n",
       "3  1950-04-15   SCO  Scotland   ENG           England       Glasgow, Scotland   \n",
       "4  1950-06-24   BRA    Brazil   MEX            Mexico  Rio De Janeiro, Brazil   \n",
       "\n",
       "   IdCupSeason                              CupName  team1Score  team2Score  \\\n",
       "0            6  FIFA competition team qualification         0.0         0.0   \n",
       "1            6  FIFA competition team qualification         5.0         1.0   \n",
       "2            6  FIFA competition team qualification         2.0         2.0   \n",
       "3            6  FIFA competition team qualification         0.0         1.0   \n",
       "4            7          FIFA competition team final         4.0         0.0   \n",
       "\n",
       "  statText resText  team1PenScore  team2PenScore team1Home team2Home  \n",
       "0      NaN     0-0            NaN            NaN      True     False  \n",
       "1      NaN     5-1            NaN            NaN      True     False  \n",
       "2      NaN     2-2            NaN            NaN      True     False  \n",
       "3      NaN     0-1            NaN            NaN      True     False  \n",
       "4      NaN     4-0            NaN            NaN      True     False  "
      ]
     },
     "execution_count": 6,
     "metadata": {},
     "output_type": "execute_result"
    }
   ],
   "source": [
    "matches['team1Home'] = matches.apply(lambda x: str(x['team1Text'].lower() in str(x['venue']).lower()), axis=1)\n",
    "matches['team2Home'] = matches.apply(lambda x: str(x['team2Text'].lower() in str(x['venue']).lower()), axis=1)\n",
    "matches.head()"
   ]
  },
  {
   "cell_type": "markdown",
   "metadata": {},
   "source": [
    "Also, another factor that might influence a team's performance is the type of matches it's playing. Normally, teams will treat Friendly match as an opportunity for exploring young talented players. Therefore, they would be less serious towards the scores. For the actual prediction, we might want to exclude the friendly matches if they turn out to make a huge difference. "
   ]
  },
  {
   "cell_type": "code",
   "execution_count": 7,
   "metadata": {},
   "outputs": [
    {
     "data": {
      "text/plain": [
       "(13272, 16)"
      ]
     },
     "execution_count": 7,
     "metadata": {},
     "output_type": "execute_result"
    }
   ],
   "source": [
    "import copy\n",
    "# make a deep copy for the matches including friendly matches \n",
    "matches_with_friendly = copy.deepcopy(matches)\n",
    "# exclude the friendly matches for our analysis\n",
    "matches = matches[matches['CupName'] != 'Friendly']\n",
    "# also, we want to exclude the possible influence of outliers, like some\n",
    "# teams would score more than 10 goals in a single match\n",
    "matches = matches[(matches['team1Score']<=10) & (matches['team2Score']<=10)]\n",
    "matches.shape"
   ]
  },
  {
   "cell_type": "markdown",
   "metadata": {},
   "source": [
    "It turns out Friendly matches do occupy a significant portion of the total matches. Also, the data set needs to be further modified since a win for team 1 automatically means a loss for team 2. However, looking at an entry, it only reflects the result for a single team. Therefore, we should mirror each entry in another team's perspective, which means we could make a reverse version for every entry.\n",
    "\n",
    "for example,\n",
    "* team1 vs team2 \n",
    "    * score - 1:3, team1Home - False, team2Home - True.\n",
    "* team2 vs team1\n",
    "    * score - 3:1, team1Home - True, team2Home - False"
   ]
  },
  {
   "cell_type": "code",
   "execution_count": 8,
   "metadata": {
    "scrolled": true
   },
   "outputs": [
    {
     "data": {
      "text/plain": [
       "(26544, 16)"
      ]
     },
     "execution_count": 8,
     "metadata": {},
     "output_type": "execute_result"
    }
   ],
   "source": [
    "matches_mirror = copy.deepcopy(matches)\n",
    "\n",
    "matches_mirror['team1'] = matches['team2']\n",
    "matches_mirror['team2'] = matches['team1']\n",
    "\n",
    "matches_mirror['team1Text'] = matches['team2Text']\n",
    "matches_mirror['team2Text'] = matches['team1Text']\n",
    "\n",
    "matches_mirror['team1Score'] = matches['team2Score']\n",
    "matches_mirror['team2Score'] = matches['team1Score']\n",
    "\n",
    "matches_mirror['team1Home'] = matches['team1Home']\n",
    "matches_mirror['team2Home'] = matches['team2Home']\n",
    "\n",
    "# concatenate the mirrored matches into the original matches data set\n",
    "# to double up the number of entries\n",
    "matches = pd.concat([matches, matches_mirror])\n",
    "matches.shape"
   ]
  },
  {
   "cell_type": "markdown",
   "metadata": {},
   "source": [
    "#### now the data-preprocessing is almost ready, we just want to take a look of a few rows\n"
   ]
  },
  {
   "cell_type": "code",
   "execution_count": 9,
   "metadata": {},
   "outputs": [
    {
     "data": {
      "text/html": [
       "<div>\n",
       "<style scoped>\n",
       "    .dataframe tbody tr th:only-of-type {\n",
       "        vertical-align: middle;\n",
       "    }\n",
       "\n",
       "    .dataframe tbody tr th {\n",
       "        vertical-align: top;\n",
       "    }\n",
       "\n",
       "    .dataframe thead th {\n",
       "        text-align: right;\n",
       "    }\n",
       "</style>\n",
       "<table border=\"1\" class=\"dataframe\">\n",
       "  <thead>\n",
       "    <tr style=\"text-align: right;\">\n",
       "      <th></th>\n",
       "      <th>date</th>\n",
       "      <th>team1</th>\n",
       "      <th>team1Text</th>\n",
       "      <th>team2</th>\n",
       "      <th>team2Text</th>\n",
       "      <th>venue</th>\n",
       "      <th>IdCupSeason</th>\n",
       "      <th>CupName</th>\n",
       "      <th>team1Score</th>\n",
       "      <th>team2Score</th>\n",
       "      <th>statText</th>\n",
       "      <th>resText</th>\n",
       "      <th>team1PenScore</th>\n",
       "      <th>team2PenScore</th>\n",
       "      <th>team1Home</th>\n",
       "      <th>team2Home</th>\n",
       "    </tr>\n",
       "  </thead>\n",
       "  <tbody>\n",
       "    <tr>\n",
       "      <th>0</th>\n",
       "      <td>1950-03-08</td>\n",
       "      <td>WAL</td>\n",
       "      <td>Wales</td>\n",
       "      <td>NIR</td>\n",
       "      <td>Northern Ireland</td>\n",
       "      <td>Cardiff, Wales</td>\n",
       "      <td>6</td>\n",
       "      <td>FIFA competition team qualification</td>\n",
       "      <td>0.0</td>\n",
       "      <td>0.0</td>\n",
       "      <td>NaN</td>\n",
       "      <td>0-0</td>\n",
       "      <td>NaN</td>\n",
       "      <td>NaN</td>\n",
       "      <td>True</td>\n",
       "      <td>False</td>\n",
       "    </tr>\n",
       "    <tr>\n",
       "      <th>1</th>\n",
       "      <td>1950-04-02</td>\n",
       "      <td>ESP</td>\n",
       "      <td>Spain</td>\n",
       "      <td>POR</td>\n",
       "      <td>Portugal</td>\n",
       "      <td>Madrid, Spain</td>\n",
       "      <td>6</td>\n",
       "      <td>FIFA competition team qualification</td>\n",
       "      <td>5.0</td>\n",
       "      <td>1.0</td>\n",
       "      <td>NaN</td>\n",
       "      <td>5-1</td>\n",
       "      <td>NaN</td>\n",
       "      <td>NaN</td>\n",
       "      <td>True</td>\n",
       "      <td>False</td>\n",
       "    </tr>\n",
       "    <tr>\n",
       "      <th>2</th>\n",
       "      <td>1950-04-09</td>\n",
       "      <td>POR</td>\n",
       "      <td>Portugal</td>\n",
       "      <td>ESP</td>\n",
       "      <td>Spain</td>\n",
       "      <td>Lisbon, Portugal</td>\n",
       "      <td>6</td>\n",
       "      <td>FIFA competition team qualification</td>\n",
       "      <td>2.0</td>\n",
       "      <td>2.0</td>\n",
       "      <td>NaN</td>\n",
       "      <td>2-2</td>\n",
       "      <td>NaN</td>\n",
       "      <td>NaN</td>\n",
       "      <td>True</td>\n",
       "      <td>False</td>\n",
       "    </tr>\n",
       "    <tr>\n",
       "      <th>3</th>\n",
       "      <td>1950-04-15</td>\n",
       "      <td>SCO</td>\n",
       "      <td>Scotland</td>\n",
       "      <td>ENG</td>\n",
       "      <td>England</td>\n",
       "      <td>Glasgow, Scotland</td>\n",
       "      <td>6</td>\n",
       "      <td>FIFA competition team qualification</td>\n",
       "      <td>0.0</td>\n",
       "      <td>1.0</td>\n",
       "      <td>NaN</td>\n",
       "      <td>0-1</td>\n",
       "      <td>NaN</td>\n",
       "      <td>NaN</td>\n",
       "      <td>True</td>\n",
       "      <td>False</td>\n",
       "    </tr>\n",
       "    <tr>\n",
       "      <th>4</th>\n",
       "      <td>1950-06-24</td>\n",
       "      <td>BRA</td>\n",
       "      <td>Brazil</td>\n",
       "      <td>MEX</td>\n",
       "      <td>Mexico</td>\n",
       "      <td>Rio De Janeiro, Brazil</td>\n",
       "      <td>7</td>\n",
       "      <td>FIFA competition team final</td>\n",
       "      <td>4.0</td>\n",
       "      <td>0.0</td>\n",
       "      <td>NaN</td>\n",
       "      <td>4-0</td>\n",
       "      <td>NaN</td>\n",
       "      <td>NaN</td>\n",
       "      <td>True</td>\n",
       "      <td>False</td>\n",
       "    </tr>\n",
       "  </tbody>\n",
       "</table>\n",
       "</div>"
      ],
      "text/plain": [
       "         date team1 team1Text team2         team2Text                   venue  \\\n",
       "0  1950-03-08   WAL     Wales   NIR  Northern Ireland          Cardiff, Wales   \n",
       "1  1950-04-02   ESP     Spain   POR          Portugal           Madrid, Spain   \n",
       "2  1950-04-09   POR  Portugal   ESP             Spain        Lisbon, Portugal   \n",
       "3  1950-04-15   SCO  Scotland   ENG           England       Glasgow, Scotland   \n",
       "4  1950-06-24   BRA    Brazil   MEX            Mexico  Rio De Janeiro, Brazil   \n",
       "\n",
       "   IdCupSeason                              CupName  team1Score  team2Score  \\\n",
       "0            6  FIFA competition team qualification         0.0         0.0   \n",
       "1            6  FIFA competition team qualification         5.0         1.0   \n",
       "2            6  FIFA competition team qualification         2.0         2.0   \n",
       "3            6  FIFA competition team qualification         0.0         1.0   \n",
       "4            7          FIFA competition team final         4.0         0.0   \n",
       "\n",
       "  statText resText  team1PenScore  team2PenScore team1Home team2Home  \n",
       "0      NaN     0-0            NaN            NaN      True     False  \n",
       "1      NaN     5-1            NaN            NaN      True     False  \n",
       "2      NaN     2-2            NaN            NaN      True     False  \n",
       "3      NaN     0-1            NaN            NaN      True     False  \n",
       "4      NaN     4-0            NaN            NaN      True     False  "
      ]
     },
     "execution_count": 9,
     "metadata": {},
     "output_type": "execute_result"
    }
   ],
   "source": [
    "matches.sort_values(by='date')\n",
    "matches.head()"
   ]
  },
  {
   "cell_type": "markdown",
   "metadata": {},
   "source": [
    "### Statistical Analysis \n"
   ]
  },
  {
   "cell_type": "markdown",
   "metadata": {},
   "source": [
    "#### Year of the Match vs Total Goals for the Match"
   ]
  },
  {
   "cell_type": "code",
   "execution_count": 10,
   "metadata": {},
   "outputs": [],
   "source": [
    "### extract year from date variable \n",
    "matches['year'] = matches['date'].apply(lambda x: x[:4])\n",
    "### extract the total scores by summing up team1Score and team2Score\n",
    "matches['totalScores'] = matches['team1Score'] + matches['team2Score']"
   ]
  },
  {
   "cell_type": "code",
   "execution_count": 11,
   "metadata": {},
   "outputs": [
    {
     "name": "stderr",
     "output_type": "stream",
     "text": [
      "/Users/Nelson/anaconda3/lib/python3.6/site-packages/seaborn/timeseries.py:183: UserWarning: The `tsplot` function is deprecated and will be removed in a future release. Please update your code to use the new `lineplot` function.\n",
      "  warnings.warn(msg, UserWarning)\n"
     ]
    },
    {
     "data": {
      "image/png": "[encoded data removed]",
      "text/plain": [
       "<Figure size 432x288 with 1 Axes>"
      ]
     },
     "metadata": {
      "needs_background": "light"
     },
     "output_type": "display_data"
    }
   ],
   "source": [
    "import seaborn as sns\n",
    "sns.set()\n",
    "import matplotlib.pyplot as plt\n",
    "%matplotlib inline \n",
    "\n",
    "### group the matches by year \n",
    "year_vs_score = matches.groupby('year').mean()\n",
    "year_vs_score = year_vs_score.reset_index()[['year', 'totalScores']]\n",
    "year_vs_score['subject'] = 0\n",
    "\n",
    "### make a time-series plot\n",
    "ax = sns.tsplot(data=year_vs_score, time='year', value='totalScores', unit='subject')\n",
    "ax.set_title('Average total score per match from 1956 to 2017', fontsize=12)\n",
    "ax.set_xlabel('year', fontsize=12)\n",
    "ax.set_ylabel('total score per game', fontsize=12)\n",
    "plt.show()"
   ]
  },
  {
   "cell_type": "markdown",
   "metadata": {},
   "source": [
    "### Winning Percentage \n",
    "- we can observe from the time series plot that the average total scores per game has been dropping till 1990. After that, we see a solid increase. This makes sense, because now teams put more effort in defense rather than attack, leading to rarer scoring opportunities. \n",
    "- next, we want to look at the winning percentage for each team, with and without friendly matches."
   ]
  },
  {
   "cell_type": "code",
   "execution_count": 12,
   "metadata": {},
   "outputs": [],
   "source": [
    "matches.index = range(len(matches))\n",
    "\n",
    "def win_pct(matches):\n",
    "    ### create a dictionary to store the total number\n",
    "    ### of games and number of winnings for each team\n",
    "    win_pct_teams = dict()\n",
    "    \n",
    "    for i in matches.index:\n",
    "        team1 = matches.loc[i, 'team1']\n",
    "        team2 = matches.loc[i, 'team2']\n",
    "        score1 = matches.loc[i, 'team1Score']\n",
    "        score2 = matches.loc[i, 'team2Score']\n",
    "        \n",
    "        ### for every entry, we have information about \n",
    "        ### two teams. \n",
    "        ### Update information for team 1\n",
    "        if team1 in win_pct_teams:\n",
    "            win_pct_teams[team1]['total_matches'] += 1\n",
    "            if score1 > score2:\n",
    "                win_pct_teams[team1]['win_matches'] += 1\n",
    "        else:\n",
    "            if score1 > score2:\n",
    "                win_pct_teams[team1] = {'total_matches':1, 'win_matches':1}\n",
    "            else:\n",
    "                win_pct_teams[team1] = {'total_matches':1, 'win_matches':0}\n",
    "                \n",
    "        ### update information for team 2\n",
    "        if team2 in win_pct_teams:\n",
    "            win_pct_teams[team2]['total_matches'] += 1\n",
    "            if score2 > score1:\n",
    "                win_pct_teams[team2]['win_matches'] += 1\n",
    "        else:\n",
    "            if score2 > score1:\n",
    "                win_pct_teams[team2] = {'total_matches':1, 'win_matches':1} \n",
    "            else:\n",
    "                win_pct_teams[team2] = {'total_matches':1, 'win_matches':0}\n",
    "                \n",
    "    win_pct_info = list()\n",
    "                \n",
    "    ### convert dictionary into a list \n",
    "    for k,v in win_pct_teams.items():\n",
    "        win_pct_info.append((k, v['total_matches'], v['win_matches'], \n",
    "                             v['win_matches'] / v['total_matches']))\n",
    "        \n",
    "    ### convert dictionary into a dataframe\n",
    "    import pandas as pd\n",
    "    win_df = pd.DataFrame(win_pct_info, columns=['team_name', 'total_matches', \n",
    "                                                 'win_matches', 'win_pct'])\n",
    "    \n",
    "    return win_df[win_df['total_matches'] >= 10]\n",
    "        "
   ]
  },
  {
   "cell_type": "code",
   "execution_count": 25,
   "metadata": {},
   "outputs": [],
   "source": [
    "### no friendly matches \n",
    "df_no_friendly = win_pct(matches)\n",
    "### with friendly matches\n",
    "df_friendly = win_pct(matches_with_friendly)"
   ]
  },
  {
   "cell_type": "code",
   "execution_count": 31,
   "metadata": {},
   "outputs": [
    {
     "data": {
      "text/html": [
       "<div>\n",
       "<style scoped>\n",
       "    .dataframe tbody tr th:only-of-type {\n",
       "        vertical-align: middle;\n",
       "    }\n",
       "\n",
       "    .dataframe tbody tr th {\n",
       "        vertical-align: top;\n",
       "    }\n",
       "\n",
       "    .dataframe thead th {\n",
       "        text-align: right;\n",
       "    }\n",
       "</style>\n",
       "<table border=\"1\" class=\"dataframe\">\n",
       "  <thead>\n",
       "    <tr style=\"text-align: right;\">\n",
       "      <th></th>\n",
       "      <th>team_name</th>\n",
       "      <th>total_matches</th>\n",
       "      <th>win_matches</th>\n",
       "      <th>win_pct</th>\n",
       "    </tr>\n",
       "  </thead>\n",
       "  <tbody>\n",
       "    <tr>\n",
       "      <th>0</th>\n",
       "      <td>WAL</td>\n",
       "      <td>314</td>\n",
       "      <td>98</td>\n",
       "      <td>0.312102</td>\n",
       "    </tr>\n",
       "    <tr>\n",
       "      <th>1</th>\n",
       "      <td>NIR</td>\n",
       "      <td>338</td>\n",
       "      <td>104</td>\n",
       "      <td>0.307692</td>\n",
       "    </tr>\n",
       "    <tr>\n",
       "      <th>2</th>\n",
       "      <td>ESP</td>\n",
       "      <td>604</td>\n",
       "      <td>350</td>\n",
       "      <td>0.579470</td>\n",
       "    </tr>\n",
       "  </tbody>\n",
       "</table>\n",
       "</div>"
      ],
      "text/plain": [
       "  team_name  total_matches  win_matches   win_pct\n",
       "0       WAL            314           98  0.312102\n",
       "1       NIR            338          104  0.307692\n",
       "2       ESP            604          350  0.579470"
      ]
     },
     "execution_count": 31,
     "metadata": {},
     "output_type": "execute_result"
    }
   ],
   "source": [
    "df_no_friendly.head(3)"
   ]
  },
  {
   "cell_type": "markdown",
   "metadata": {},
   "source": [
    "#### visualize winning percentage "
   ]
  },
  {
   "cell_type": "code",
   "execution_count": 60,
   "metadata": {},
   "outputs": [],
   "source": [
    "def visualize_win_pct(df, title):\n",
    "    x = df['total_matches']\n",
    "    y = df['win_pct']\n",
    "    n = df['team_name']\n",
    "        \n",
    "    import matplotlib.pyplot as plt\n",
    "    %matplotlib inline \n",
    "    fig, ax = plt.subplots()\n",
    "    ax.scatter(x, y)\n",
    "    ax.set_title(title, fontsize=20)\n",
    "    ax.set_xlabel('total matches', fontsize=13)\n",
    "    ax.set_ylabel('win pct', fontsize=13)\n",
    "    \n",
    "    fig.set_size_inches(16, 8)\n",
    "\n",
    "    ### draw a horizontal line to indicate 50% winning percentage \n",
    "    plt.axhline(y=0.5, xmin=0, xmax=1000, linewidth=2, color='y')\n",
    "    for i, txt in enumerate(n):\n",
    "        ax.annotate(txt, (x[i], y[i]))"
   ]
  },
  {
   "cell_type": "code",
   "execution_count": 59,
   "metadata": {},
   "outputs": [
    {
     "ename": "KeyError",
     "evalue": "65",
     "output_type": "error",
     "traceback": [
      "\u001b[0;31m---------------------------------------------------------------------------\u001b[0m",
      "\u001b[0;31mKeyError\u001b[0m                                  Traceback (most recent call last)",
      "\u001b[0;32m<ipython-input-59-bd98b67eacab>\u001b[0m in \u001b[0;36m<module>\u001b[0;34m\u001b[0m\n\u001b[0;32m----> 1\u001b[0;31m \u001b[0mvisualize_win_pct\u001b[0m\u001b[0;34m(\u001b[0m\u001b[0mdf_friendly\u001b[0m\u001b[0;34m,\u001b[0m \u001b[0;34m'winning percentage vs total number of matches including friendly'\u001b[0m\u001b[0;34m)\u001b[0m\u001b[0;34m\u001b[0m\u001b[0m\n\u001b[0m",
      "\u001b[0;32m<ipython-input-58-e696afa4f0eb>\u001b[0m in \u001b[0;36mvisualize_win_pct\u001b[0;34m(df, title)\u001b[0m\n\u001b[1;32m     17\u001b[0m     \u001b[0mplt\u001b[0m\u001b[0;34m.\u001b[0m\u001b[0maxhline\u001b[0m\u001b[0;34m(\u001b[0m\u001b[0my\u001b[0m\u001b[0;34m=\u001b[0m\u001b[0;36m0.5\u001b[0m\u001b[0;34m,\u001b[0m \u001b[0mxmin\u001b[0m\u001b[0;34m=\u001b[0m\u001b[0;36m0\u001b[0m\u001b[0;34m,\u001b[0m \u001b[0mxmax\u001b[0m\u001b[0;34m=\u001b[0m\u001b[0;36m1000\u001b[0m\u001b[0;34m,\u001b[0m \u001b[0mlinewidth\u001b[0m\u001b[0;34m=\u001b[0m\u001b[0;36m2\u001b[0m\u001b[0;34m,\u001b[0m \u001b[0mcolor\u001b[0m\u001b[0;34m=\u001b[0m\u001b[0;34m'y'\u001b[0m\u001b[0;34m)\u001b[0m\u001b[0;34m\u001b[0m\u001b[0m\n\u001b[1;32m     18\u001b[0m     \u001b[0;32mfor\u001b[0m \u001b[0mi\u001b[0m\u001b[0;34m,\u001b[0m \u001b[0mtxt\u001b[0m \u001b[0;32min\u001b[0m \u001b[0menumerate\u001b[0m\u001b[0;34m(\u001b[0m\u001b[0mn\u001b[0m\u001b[0;34m)\u001b[0m\u001b[0;34m:\u001b[0m\u001b[0;34m\u001b[0m\u001b[0m\n\u001b[0;32m---> 19\u001b[0;31m         \u001b[0max\u001b[0m\u001b[0;34m.\u001b[0m\u001b[0mannotate\u001b[0m\u001b[0;34m(\u001b[0m\u001b[0mtxt\u001b[0m\u001b[0;34m,\u001b[0m \u001b[0;34m(\u001b[0m\u001b[0mx\u001b[0m\u001b[0;34m[\u001b[0m\u001b[0mi\u001b[0m\u001b[0;34m]\u001b[0m\u001b[0;34m,\u001b[0m \u001b[0my\u001b[0m\u001b[0;34m[\u001b[0m\u001b[0mi\u001b[0m\u001b[0;34m]\u001b[0m\u001b[0;34m)\u001b[0m\u001b[0;34m)\u001b[0m\u001b[0;34m\u001b[0m\u001b[0m\n\u001b[0m\u001b[1;32m     20\u001b[0m \u001b[0;34m\u001b[0m\u001b[0m\n",
      "\u001b[0;32m~/anaconda3/lib/python3.6/site-packages/pandas/core/series.py\u001b[0m in \u001b[0;36m__getitem__\u001b[0;34m(self, key)\u001b[0m\n\u001b[1;32m    765\u001b[0m         \u001b[0mkey\u001b[0m \u001b[0;34m=\u001b[0m \u001b[0mcom\u001b[0m\u001b[0;34m.\u001b[0m\u001b[0m_apply_if_callable\u001b[0m\u001b[0;34m(\u001b[0m\u001b[0mkey\u001b[0m\u001b[0;34m,\u001b[0m \u001b[0mself\u001b[0m\u001b[0;34m)\u001b[0m\u001b[0;34m\u001b[0m\u001b[0m\n\u001b[1;32m    766\u001b[0m         \u001b[0;32mtry\u001b[0m\u001b[0;34m:\u001b[0m\u001b[0;34m\u001b[0m\u001b[0m\n\u001b[0;32m--> 767\u001b[0;31m             \u001b[0mresult\u001b[0m \u001b[0;34m=\u001b[0m \u001b[0mself\u001b[0m\u001b[0;34m.\u001b[0m\u001b[0mindex\u001b[0m\u001b[0;34m.\u001b[0m\u001b[0mget_value\u001b[0m\u001b[0;34m(\u001b[0m\u001b[0mself\u001b[0m\u001b[0;34m,\u001b[0m \u001b[0mkey\u001b[0m\u001b[0;34m)\u001b[0m\u001b[0;34m\u001b[0m\u001b[0m\n\u001b[0m\u001b[1;32m    768\u001b[0m \u001b[0;34m\u001b[0m\u001b[0m\n\u001b[1;32m    769\u001b[0m             \u001b[0;32mif\u001b[0m \u001b[0;32mnot\u001b[0m \u001b[0mis_scalar\u001b[0m\u001b[0;34m(\u001b[0m\u001b[0mresult\u001b[0m\u001b[0;34m)\u001b[0m\u001b[0;34m:\u001b[0m\u001b[0;34m\u001b[0m\u001b[0m\n",
      "\u001b[0;32m~/anaconda3/lib/python3.6/site-packages/pandas/core/indexes/base.py\u001b[0m in \u001b[0;36mget_value\u001b[0;34m(self, series, key)\u001b[0m\n\u001b[1;32m   3116\u001b[0m         \u001b[0;32mtry\u001b[0m\u001b[0;34m:\u001b[0m\u001b[0;34m\u001b[0m\u001b[0m\n\u001b[1;32m   3117\u001b[0m             return self._engine.get_value(s, k,\n\u001b[0;32m-> 3118\u001b[0;31m                                           tz=getattr(series.dtype, 'tz', None))\n\u001b[0m\u001b[1;32m   3119\u001b[0m         \u001b[0;32mexcept\u001b[0m \u001b[0mKeyError\u001b[0m \u001b[0;32mas\u001b[0m \u001b[0me1\u001b[0m\u001b[0;34m:\u001b[0m\u001b[0;34m\u001b[0m\u001b[0m\n\u001b[1;32m   3120\u001b[0m             \u001b[0;32mif\u001b[0m \u001b[0mlen\u001b[0m\u001b[0;34m(\u001b[0m\u001b[0mself\u001b[0m\u001b[0;34m)\u001b[0m \u001b[0;34m>\u001b[0m \u001b[0;36m0\u001b[0m \u001b[0;32mand\u001b[0m \u001b[0mself\u001b[0m\u001b[0;34m.\u001b[0m\u001b[0minferred_type\u001b[0m \u001b[0;32min\u001b[0m \u001b[0;34m[\u001b[0m\u001b[0;34m'integer'\u001b[0m\u001b[0;34m,\u001b[0m \u001b[0;34m'boolean'\u001b[0m\u001b[0;34m]\u001b[0m\u001b[0;34m:\u001b[0m\u001b[0;34m\u001b[0m\u001b[0m\n",
      "\u001b[0;32mpandas/_libs/index.pyx\u001b[0m in \u001b[0;36mpandas._libs.index.IndexEngine.get_value\u001b[0;34m()\u001b[0m\n",
      "\u001b[0;32mpandas/_libs/index.pyx\u001b[0m in \u001b[0;36mpandas._libs.index.IndexEngine.get_value\u001b[0;34m()\u001b[0m\n",
      "\u001b[0;32mpandas/_libs/index.pyx\u001b[0m in \u001b[0;36mpandas._libs.index.IndexEngine.get_loc\u001b[0;34m()\u001b[0m\n",
      "\u001b[0;32mpandas/_libs/hashtable_class_helper.pxi\u001b[0m in \u001b[0;36mpandas._libs.hashtable.Int64HashTable.get_item\u001b[0;34m()\u001b[0m\n",
      "\u001b[0;32mpandas/_libs/hashtable_class_helper.pxi\u001b[0m in \u001b[0;36mpandas._libs.hashtable.Int64HashTable.get_item\u001b[0;34m()\u001b[0m\n",
      "\u001b[0;31mKeyError\u001b[0m: 65"
     ]
    },
    {
     "data": {
      "image/png": "[encoded data removed]",
      "text/plain": [
       "<Figure size 1152x576 with 1 Axes>"
      ]
     },
     "metadata": {
      "needs_background": "light"
     },
     "output_type": "display_data"
    }
   ],
   "source": [
    "visualize_win_pct(df_friendly, 'winning percentage vs total number of matches including friendly')"
   ]
  },
  {
   "cell_type": "code",
   "execution_count": 29,
   "metadata": {},
   "outputs": [
    {
     "ename": "KeyError",
     "evalue": "38",
     "output_type": "error",
     "traceback": [
      "\u001b[0;31m---------------------------------------------------------------------------\u001b[0m",
      "\u001b[0;31mKeyError\u001b[0m                                  Traceback (most recent call last)",
      "\u001b[0;32m<ipython-input-29-63c48792cd45>\u001b[0m in \u001b[0;36m<module>\u001b[0;34m\u001b[0m\n\u001b[0;32m----> 1\u001b[0;31m \u001b[0mvisualize_win_pct\u001b[0m\u001b[0;34m(\u001b[0m\u001b[0mdf_no_friendly\u001b[0m\u001b[0;34m,\u001b[0m \u001b[0;34m'winning percentage vs total number of matches without friendly'\u001b[0m\u001b[0;34m)\u001b[0m\u001b[0;34m\u001b[0m\u001b[0m\n\u001b[0m",
      "\u001b[0;32m<ipython-input-27-78661c5b7575>\u001b[0m in \u001b[0;36mvisualize_win_pct\u001b[0;34m(df, title)\u001b[0m\n\u001b[1;32m     18\u001b[0m \u001b[0;34m\u001b[0m\u001b[0m\n\u001b[1;32m     19\u001b[0m     \u001b[0;32mfor\u001b[0m \u001b[0mi\u001b[0m\u001b[0;34m,\u001b[0m \u001b[0mtxt\u001b[0m \u001b[0;32min\u001b[0m \u001b[0menumerate\u001b[0m\u001b[0;34m(\u001b[0m\u001b[0mn\u001b[0m\u001b[0;34m)\u001b[0m\u001b[0;34m:\u001b[0m\u001b[0;34m\u001b[0m\u001b[0m\n\u001b[0;32m---> 20\u001b[0;31m         \u001b[0max\u001b[0m\u001b[0;34m.\u001b[0m\u001b[0mannotate\u001b[0m\u001b[0;34m(\u001b[0m\u001b[0mtxt\u001b[0m\u001b[0;34m,\u001b[0m \u001b[0;34m(\u001b[0m\u001b[0mx\u001b[0m\u001b[0;34m[\u001b[0m\u001b[0mi\u001b[0m\u001b[0;34m]\u001b[0m\u001b[0;34m,\u001b[0m \u001b[0my\u001b[0m\u001b[0;34m[\u001b[0m\u001b[0mi\u001b[0m\u001b[0;34m]\u001b[0m\u001b[0;34m)\u001b[0m\u001b[0;34m)\u001b[0m\u001b[0;34m\u001b[0m\u001b[0m\n\u001b[0m\u001b[1;32m     21\u001b[0m \u001b[0;34m\u001b[0m\u001b[0m\n",
      "\u001b[0;32m~/anaconda3/lib/python3.6/site-packages/pandas/core/series.py\u001b[0m in \u001b[0;36m__getitem__\u001b[0;34m(self, key)\u001b[0m\n\u001b[1;32m    765\u001b[0m         \u001b[0mkey\u001b[0m \u001b[0;34m=\u001b[0m \u001b[0mcom\u001b[0m\u001b[0;34m.\u001b[0m\u001b[0m_apply_if_callable\u001b[0m\u001b[0;34m(\u001b[0m\u001b[0mkey\u001b[0m\u001b[0;34m,\u001b[0m \u001b[0mself\u001b[0m\u001b[0;34m)\u001b[0m\u001b[0;34m\u001b[0m\u001b[0m\n\u001b[1;32m    766\u001b[0m         \u001b[0;32mtry\u001b[0m\u001b[0;34m:\u001b[0m\u001b[0;34m\u001b[0m\u001b[0m\n\u001b[0;32m--> 767\u001b[0;31m             \u001b[0mresult\u001b[0m \u001b[0;34m=\u001b[0m \u001b[0mself\u001b[0m\u001b[0;34m.\u001b[0m\u001b[0mindex\u001b[0m\u001b[0;34m.\u001b[0m\u001b[0mget_value\u001b[0m\u001b[0;34m(\u001b[0m\u001b[0mself\u001b[0m\u001b[0;34m,\u001b[0m \u001b[0mkey\u001b[0m\u001b[0;34m)\u001b[0m\u001b[0;34m\u001b[0m\u001b[0m\n\u001b[0m\u001b[1;32m    768\u001b[0m \u001b[0;34m\u001b[0m\u001b[0m\n\u001b[1;32m    769\u001b[0m             \u001b[0;32mif\u001b[0m \u001b[0;32mnot\u001b[0m \u001b[0mis_scalar\u001b[0m\u001b[0;34m(\u001b[0m\u001b[0mresult\u001b[0m\u001b[0;34m)\u001b[0m\u001b[0;34m:\u001b[0m\u001b[0;34m\u001b[0m\u001b[0m\n",
      "\u001b[0;32m~/anaconda3/lib/python3.6/site-packages/pandas/core/indexes/base.py\u001b[0m in \u001b[0;36mget_value\u001b[0;34m(self, series, key)\u001b[0m\n\u001b[1;32m   3116\u001b[0m         \u001b[0;32mtry\u001b[0m\u001b[0;34m:\u001b[0m\u001b[0;34m\u001b[0m\u001b[0m\n\u001b[1;32m   3117\u001b[0m             return self._engine.get_value(s, k,\n\u001b[0;32m-> 3118\u001b[0;31m                                           tz=getattr(series.dtype, 'tz', None))\n\u001b[0m\u001b[1;32m   3119\u001b[0m         \u001b[0;32mexcept\u001b[0m \u001b[0mKeyError\u001b[0m \u001b[0;32mas\u001b[0m \u001b[0me1\u001b[0m\u001b[0;34m:\u001b[0m\u001b[0;34m\u001b[0m\u001b[0m\n\u001b[1;32m   3120\u001b[0m             \u001b[0;32mif\u001b[0m \u001b[0mlen\u001b[0m\u001b[0;34m(\u001b[0m\u001b[0mself\u001b[0m\u001b[0;34m)\u001b[0m \u001b[0;34m>\u001b[0m \u001b[0;36m0\u001b[0m \u001b[0;32mand\u001b[0m \u001b[0mself\u001b[0m\u001b[0;34m.\u001b[0m\u001b[0minferred_type\u001b[0m \u001b[0;32min\u001b[0m \u001b[0;34m[\u001b[0m\u001b[0;34m'integer'\u001b[0m\u001b[0;34m,\u001b[0m \u001b[0;34m'boolean'\u001b[0m\u001b[0;34m]\u001b[0m\u001b[0;34m:\u001b[0m\u001b[0;34m\u001b[0m\u001b[0m\n",
      "\u001b[0;32mpandas/_libs/index.pyx\u001b[0m in \u001b[0;36mpandas._libs.index.IndexEngine.get_value\u001b[0;34m()\u001b[0m\n",
      "\u001b[0;32mpandas/_libs/index.pyx\u001b[0m in \u001b[0;36mpandas._libs.index.IndexEngine.get_value\u001b[0;34m()\u001b[0m\n",
      "\u001b[0;32mpandas/_libs/index.pyx\u001b[0m in \u001b[0;36mpandas._libs.index.IndexEngine.get_loc\u001b[0;34m()\u001b[0m\n",
      "\u001b[0;32mpandas/_libs/hashtable_class_helper.pxi\u001b[0m in \u001b[0;36mpandas._libs.hashtable.Int64HashTable.get_item\u001b[0;34m()\u001b[0m\n",
      "\u001b[0;32mpandas/_libs/hashtable_class_helper.pxi\u001b[0m in \u001b[0;36mpandas._libs.hashtable.Int64HashTable.get_item\u001b[0;34m()\u001b[0m\n",
      "\u001b[0;31mKeyError\u001b[0m: 38"
     ]
    },
    {
     "data": {
      "image/png": "[encoded data removed]",
      "text/plain": [
       "<Figure size 1152x576 with 1 Axes>"
      ]
     },
     "metadata": {
      "needs_background": "light"
     },
     "output_type": "display_data"
    }
   ],
   "source": [
    "visualize_win_pct(df_no_friendly, 'winning percentage vs total number of matches without friendly')"
   ]
  },
  {
   "cell_type": "markdown",
   "metadata": {},
   "source": [
    "#### a couple of observations\n",
    "* with or without friendly matches, Brazil played a lot of matches, and it gets the highest winning percentage.\n",
    "* Korea (KOR) has been playing a significant amount friendly matches. \n",
    "* Some teams has very high winning percentage, like Japan (JPN), Korea (KOR), but actually played poorly in the previous world cups, why?"
   ]
  },
  {
   "cell_type": "code",
   "execution_count": null,
   "metadata": {},
   "outputs": [],
   "source": []
  }
 ],
 "metadata": {
  "kernelspec": {
   "display_name": "Python 3",
   "language": "python",
   "name": "python3"
  },
  "language_info": {
   "codemirror_mode": {
    "name": "ipython",
    "version": 3
   },
   "file_extension": ".py",
   "mimetype": "text/x-python",
   "name": "python",
   "nbconvert_exporter": "python",
   "pygments_lexer": "ipython3",
   "version": "3.6.6"
  }
 },
 "nbformat": 4,
 "nbformat_minor": 2
}
